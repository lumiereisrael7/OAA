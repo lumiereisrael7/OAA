{
 "cells": [
  {
   "cell_type": "markdown",
   "id": "b25732d5",
   "metadata": {},
   "source": [
    "# 1 - Exploration des données"
   ]
  },
  {
   "cell_type": "code",
   "execution_count": 46,
   "id": "87aa51f1",
   "metadata": {},
   "outputs": [],
   "source": [
    "# importation des données\n",
    "\n",
    "import numpy as np\n",
    "import pandas as pd\n",
    "import matplotlib.pyplot as plt\n",
    "import matplotlib.patches as mpatches\n",
    "import seaborn as sns\n",
    "sns.set(style=\"darkgrid\")"
   ]
  },
  {
   "cell_type": "markdown",
   "id": "57c612f8",
   "metadata": {},
   "source": [
    "## 1.1 - Chargement des données et visualisation du format des données"
   ]
  },
  {
   "cell_type": "code",
   "execution_count": 47,
   "id": "8172f964",
   "metadata": {},
   "outputs": [
    {
     "data": {
      "text/html": [
       "<div>\n",
       "<style scoped>\n",
       "    .dataframe tbody tr th:only-of-type {\n",
       "        vertical-align: middle;\n",
       "    }\n",
       "\n",
       "    .dataframe tbody tr th {\n",
       "        vertical-align: top;\n",
       "    }\n",
       "\n",
       "    .dataframe thead th {\n",
       "        text-align: right;\n",
       "    }\n",
       "</style>\n",
       "<table border=\"1\" class=\"dataframe\">\n",
       "  <thead>\n",
       "    <tr style=\"text-align: right;\">\n",
       "      <th></th>\n",
       "      <th>age</th>\n",
       "      <th>classmetier</th>\n",
       "      <th>education</th>\n",
       "      <th>education-rang</th>\n",
       "      <th>status-marital</th>\n",
       "      <th>occupation</th>\n",
       "      <th>relation</th>\n",
       "      <th>race</th>\n",
       "      <th>genre</th>\n",
       "      <th>gain-surcapial</th>\n",
       "      <th>perte-surcapital</th>\n",
       "      <th>heure-parsemaine</th>\n",
       "      <th>pays-origine</th>\n",
       "      <th>salaire</th>\n",
       "    </tr>\n",
       "  </thead>\n",
       "  <tbody>\n",
       "    <tr>\n",
       "      <th>0</th>\n",
       "      <td>39</td>\n",
       "      <td>State-gov</td>\n",
       "      <td>Bachelors</td>\n",
       "      <td>13</td>\n",
       "      <td>Never-married</td>\n",
       "      <td>Adm-clerical</td>\n",
       "      <td>Not-in-family</td>\n",
       "      <td>White</td>\n",
       "      <td>Male</td>\n",
       "      <td>2174</td>\n",
       "      <td>0</td>\n",
       "      <td>40</td>\n",
       "      <td>United-States</td>\n",
       "      <td>&lt;=50K</td>\n",
       "    </tr>\n",
       "    <tr>\n",
       "      <th>1</th>\n",
       "      <td>50</td>\n",
       "      <td>Self-emp-not-inc</td>\n",
       "      <td>Bachelors</td>\n",
       "      <td>13</td>\n",
       "      <td>Married-civ-spouse</td>\n",
       "      <td>Exec-managerial</td>\n",
       "      <td>Husband</td>\n",
       "      <td>White</td>\n",
       "      <td>Male</td>\n",
       "      <td>0</td>\n",
       "      <td>0</td>\n",
       "      <td>13</td>\n",
       "      <td>United-States</td>\n",
       "      <td>&lt;=50K</td>\n",
       "    </tr>\n",
       "    <tr>\n",
       "      <th>2</th>\n",
       "      <td>38</td>\n",
       "      <td>Private</td>\n",
       "      <td>HS-grad</td>\n",
       "      <td>9</td>\n",
       "      <td>Divorced</td>\n",
       "      <td>Handlers-cleaners</td>\n",
       "      <td>Not-in-family</td>\n",
       "      <td>White</td>\n",
       "      <td>Male</td>\n",
       "      <td>0</td>\n",
       "      <td>0</td>\n",
       "      <td>40</td>\n",
       "      <td>United-States</td>\n",
       "      <td>&lt;=50K</td>\n",
       "    </tr>\n",
       "    <tr>\n",
       "      <th>3</th>\n",
       "      <td>53</td>\n",
       "      <td>Private</td>\n",
       "      <td>11th</td>\n",
       "      <td>7</td>\n",
       "      <td>Married-civ-spouse</td>\n",
       "      <td>Handlers-cleaners</td>\n",
       "      <td>Husband</td>\n",
       "      <td>Black</td>\n",
       "      <td>Male</td>\n",
       "      <td>0</td>\n",
       "      <td>0</td>\n",
       "      <td>40</td>\n",
       "      <td>United-States</td>\n",
       "      <td>&lt;=50K</td>\n",
       "    </tr>\n",
       "    <tr>\n",
       "      <th>4</th>\n",
       "      <td>28</td>\n",
       "      <td>Private</td>\n",
       "      <td>Bachelors</td>\n",
       "      <td>13</td>\n",
       "      <td>Married-civ-spouse</td>\n",
       "      <td>Prof-specialty</td>\n",
       "      <td>Wife</td>\n",
       "      <td>Black</td>\n",
       "      <td>Female</td>\n",
       "      <td>0</td>\n",
       "      <td>0</td>\n",
       "      <td>40</td>\n",
       "      <td>Cuba</td>\n",
       "      <td>&lt;=50K</td>\n",
       "    </tr>\n",
       "  </tbody>\n",
       "</table>\n",
       "</div>"
      ],
      "text/plain": [
       "   age       classmetier  education  education-rang      status-marital  \\\n",
       "0   39         State-gov  Bachelors              13       Never-married   \n",
       "1   50  Self-emp-not-inc  Bachelors              13  Married-civ-spouse   \n",
       "2   38           Private    HS-grad               9            Divorced   \n",
       "3   53           Private       11th               7  Married-civ-spouse   \n",
       "4   28           Private  Bachelors              13  Married-civ-spouse   \n",
       "\n",
       "          occupation       relation   race   genre  gain-surcapial  \\\n",
       "0       Adm-clerical  Not-in-family  White    Male            2174   \n",
       "1    Exec-managerial        Husband  White    Male               0   \n",
       "2  Handlers-cleaners  Not-in-family  White    Male               0   \n",
       "3  Handlers-cleaners        Husband  Black    Male               0   \n",
       "4     Prof-specialty           Wife  Black  Female               0   \n",
       "\n",
       "   perte-surcapital  heure-parsemaine   pays-origine salaire  \n",
       "0                 0                40  United-States   <=50K  \n",
       "1                 0                13  United-States   <=50K  \n",
       "2                 0                40  United-States   <=50K  \n",
       "3                 0                40  United-States   <=50K  \n",
       "4                 0                40           Cuba   <=50K  "
      ]
     },
     "metadata": {},
     "output_type": "display_data"
    },
    {
     "data": {
      "text/plain": [
       "(32561, 14)"
      ]
     },
     "metadata": {},
     "output_type": "display_data"
    }
   ],
   "source": [
    "# Données d'entrainement\n",
    "# Ajoutons des noms de colonnes aux données\n",
    "columns = ['age', 'classmetier', 'fnlwgt', 'education', 'education-rang', 'status-marital', 'occupation',\n",
    "          'relation', 'race', 'genre', 'gain-surcapial', 'perte-surcapital', 'heure-parsemaine', 'pays-origine', 'salaire']\n",
    "\n",
    "# Lecture des données d'entrainement\n",
    "adult_train = pd.read_csv('adult.data', header=None, names=columns, skipinitialspace=True)\n",
    "\n",
    "# Suppression de la colonne sur le poids fnlwgt non utilisé dans les analyses à suivre\n",
    "adult_train = adult_train.drop('fnlwgt', axis=1)\n",
    "\n",
    "# Affichage de lignes et dimensions du jeux d'entrainements\n",
    "display(adult_train.head())\n",
    "display(adult_train.shape)"
   ]
  },
  {
   "cell_type": "markdown",
   "id": "bc9740ad",
   "metadata": {},
   "source": [
    "## 1.2 - Données de test"
   ]
  },
  {
   "cell_type": "code",
   "execution_count": 48,
   "id": "e11b3158",
   "metadata": {},
   "outputs": [
    {
     "data": {
      "text/html": [
       "<div>\n",
       "<style scoped>\n",
       "    .dataframe tbody tr th:only-of-type {\n",
       "        vertical-align: middle;\n",
       "    }\n",
       "\n",
       "    .dataframe tbody tr th {\n",
       "        vertical-align: top;\n",
       "    }\n",
       "\n",
       "    .dataframe thead th {\n",
       "        text-align: right;\n",
       "    }\n",
       "</style>\n",
       "<table border=\"1\" class=\"dataframe\">\n",
       "  <thead>\n",
       "    <tr style=\"text-align: right;\">\n",
       "      <th></th>\n",
       "      <th>age</th>\n",
       "      <th>classmetier</th>\n",
       "      <th>education</th>\n",
       "      <th>education-rang</th>\n",
       "      <th>status-marital</th>\n",
       "      <th>occupation</th>\n",
       "      <th>relation</th>\n",
       "      <th>race</th>\n",
       "      <th>genre</th>\n",
       "      <th>gain-surcapial</th>\n",
       "      <th>perte-surcapital</th>\n",
       "      <th>heure-parsemaine</th>\n",
       "      <th>pays-origine</th>\n",
       "      <th>salaire</th>\n",
       "    </tr>\n",
       "  </thead>\n",
       "  <tbody>\n",
       "    <tr>\n",
       "      <th>0</th>\n",
       "      <td>39</td>\n",
       "      <td>State-gov</td>\n",
       "      <td>Bachelors</td>\n",
       "      <td>13</td>\n",
       "      <td>Never-married</td>\n",
       "      <td>Adm-clerical</td>\n",
       "      <td>Not-in-family</td>\n",
       "      <td>White</td>\n",
       "      <td>Male</td>\n",
       "      <td>2174</td>\n",
       "      <td>0</td>\n",
       "      <td>40</td>\n",
       "      <td>United-States</td>\n",
       "      <td>&lt;=50K</td>\n",
       "    </tr>\n",
       "    <tr>\n",
       "      <th>1</th>\n",
       "      <td>50</td>\n",
       "      <td>Self-emp-not-inc</td>\n",
       "      <td>Bachelors</td>\n",
       "      <td>13</td>\n",
       "      <td>Married-civ-spouse</td>\n",
       "      <td>Exec-managerial</td>\n",
       "      <td>Husband</td>\n",
       "      <td>White</td>\n",
       "      <td>Male</td>\n",
       "      <td>0</td>\n",
       "      <td>0</td>\n",
       "      <td>13</td>\n",
       "      <td>United-States</td>\n",
       "      <td>&lt;=50K</td>\n",
       "    </tr>\n",
       "    <tr>\n",
       "      <th>2</th>\n",
       "      <td>38</td>\n",
       "      <td>Private</td>\n",
       "      <td>HS-grad</td>\n",
       "      <td>9</td>\n",
       "      <td>Divorced</td>\n",
       "      <td>Handlers-cleaners</td>\n",
       "      <td>Not-in-family</td>\n",
       "      <td>White</td>\n",
       "      <td>Male</td>\n",
       "      <td>0</td>\n",
       "      <td>0</td>\n",
       "      <td>40</td>\n",
       "      <td>United-States</td>\n",
       "      <td>&lt;=50K</td>\n",
       "    </tr>\n",
       "    <tr>\n",
       "      <th>3</th>\n",
       "      <td>53</td>\n",
       "      <td>Private</td>\n",
       "      <td>11th</td>\n",
       "      <td>7</td>\n",
       "      <td>Married-civ-spouse</td>\n",
       "      <td>Handlers-cleaners</td>\n",
       "      <td>Husband</td>\n",
       "      <td>Black</td>\n",
       "      <td>Male</td>\n",
       "      <td>0</td>\n",
       "      <td>0</td>\n",
       "      <td>40</td>\n",
       "      <td>United-States</td>\n",
       "      <td>&lt;=50K</td>\n",
       "    </tr>\n",
       "    <tr>\n",
       "      <th>4</th>\n",
       "      <td>28</td>\n",
       "      <td>Private</td>\n",
       "      <td>Bachelors</td>\n",
       "      <td>13</td>\n",
       "      <td>Married-civ-spouse</td>\n",
       "      <td>Prof-specialty</td>\n",
       "      <td>Wife</td>\n",
       "      <td>Black</td>\n",
       "      <td>Female</td>\n",
       "      <td>0</td>\n",
       "      <td>0</td>\n",
       "      <td>40</td>\n",
       "      <td>Cuba</td>\n",
       "      <td>&lt;=50K</td>\n",
       "    </tr>\n",
       "  </tbody>\n",
       "</table>\n",
       "</div>"
      ],
      "text/plain": [
       "   age       classmetier  education  education-rang      status-marital  \\\n",
       "0   39         State-gov  Bachelors              13       Never-married   \n",
       "1   50  Self-emp-not-inc  Bachelors              13  Married-civ-spouse   \n",
       "2   38           Private    HS-grad               9            Divorced   \n",
       "3   53           Private       11th               7  Married-civ-spouse   \n",
       "4   28           Private  Bachelors              13  Married-civ-spouse   \n",
       "\n",
       "          occupation       relation   race   genre  gain-surcapial  \\\n",
       "0       Adm-clerical  Not-in-family  White    Male            2174   \n",
       "1    Exec-managerial        Husband  White    Male               0   \n",
       "2  Handlers-cleaners  Not-in-family  White    Male               0   \n",
       "3  Handlers-cleaners        Husband  Black    Male               0   \n",
       "4     Prof-specialty           Wife  Black  Female               0   \n",
       "\n",
       "   perte-surcapital  heure-parsemaine   pays-origine salaire  \n",
       "0                 0                40  United-States   <=50K  \n",
       "1                 0                13  United-States   <=50K  \n",
       "2                 0                40  United-States   <=50K  \n",
       "3                 0                40  United-States   <=50K  \n",
       "4                 0                40           Cuba   <=50K  "
      ]
     },
     "metadata": {},
     "output_type": "display_data"
    },
    {
     "data": {
      "text/plain": [
       "(32561, 14)"
      ]
     },
     "metadata": {},
     "output_type": "display_data"
    }
   ],
   "source": [
    "# Données d'entrainement\n",
    "# Ajoutons des noms de colonnes aux données\n",
    "columns = ['age', 'classmetier', 'fnlwgt', 'education', 'education-rang', 'status-marital', 'occupation',\n",
    "          'relation', 'race', 'genre', 'gain-surcapial', 'perte-surcapital', 'heure-parsemaine', 'pays-origine', 'salaire']\n",
    "\n",
    "# Lecture des données d'entrainement\n",
    "adult_test = pd.read_csv('adult.test', header=None, names=columns, skipinitialspace=True, skiprows=1)\n",
    "\n",
    "# Suppression de la colonne sur le poids fnlwgt non utilisé dans les analyses à suivre\n",
    "adult_test = adult_test.drop('fnlwgt', axis=1)\n",
    "\n",
    "# Enlever le '.' de la colonne salaire\n",
    "adult_test['salaire'] = adult_test['salaire'].apply(lambda x: '>50K' if x == '>50K.' else '<=50K')\n",
    " \n",
    "# Affichage de lignes et dimensions du jeux d'entrainements\n",
    "display(adult_train.head())\n",
    "display(adult_train.shape)"
   ]
  },
  {
   "cell_type": "markdown",
   "id": "6e4db7ef",
   "metadata": {},
   "source": [
    "## 1.3 - Evaluation des données manquantes"
   ]
  },
  {
   "cell_type": "code",
   "execution_count": 49,
   "id": "ccdd3f21",
   "metadata": {},
   "outputs": [
    {
     "name": "stdout",
     "output_type": "stream",
     "text": [
      "<class 'pandas.core.frame.DataFrame'>\n",
      "RangeIndex: 32561 entries, 0 to 32560\n",
      "Data columns (total 14 columns):\n",
      " #   Column            Non-Null Count  Dtype \n",
      "---  ------            --------------  ----- \n",
      " 0   age               32561 non-null  int64 \n",
      " 1   classmetier       32561 non-null  object\n",
      " 2   education         32561 non-null  object\n",
      " 3   education-rang    32561 non-null  int64 \n",
      " 4   status-marital    32561 non-null  object\n",
      " 5   occupation        32561 non-null  object\n",
      " 6   relation          32561 non-null  object\n",
      " 7   race              32561 non-null  object\n",
      " 8   genre             32561 non-null  object\n",
      " 9   gain-surcapial    32561 non-null  int64 \n",
      " 10  perte-surcapital  32561 non-null  int64 \n",
      " 11  heure-parsemaine  32561 non-null  int64 \n",
      " 12  pays-origine      32561 non-null  object\n",
      " 13  salaire           32561 non-null  object\n",
      "dtypes: int64(5), object(9)\n",
      "memory usage: 3.5+ MB\n"
     ]
    }
   ],
   "source": [
    "adult_train.info()"
   ]
  },
  {
   "cell_type": "markdown",
   "id": "cc76f759",
   "metadata": {},
   "source": [
    "### 1.3.1 - Traitement des données incohérentes/manquantes"
   ]
  },
  {
   "cell_type": "code",
   "execution_count": 50,
   "id": "4a2eb5de",
   "metadata": {},
   "outputs": [
    {
     "data": {
      "text/plain": [
       "Private             0.697030\n",
       "Self-emp-not-inc    0.078038\n",
       "Local-gov           0.064279\n",
       "?                   0.056386\n",
       "State-gov           0.039864\n",
       "Self-emp-inc        0.034274\n",
       "Federal-gov         0.029483\n",
       "Without-pay         0.000430\n",
       "Never-worked        0.000215\n",
       "Name: classmetier, dtype: float64"
      ]
     },
     "metadata": {},
     "output_type": "display_data"
    },
    {
     "data": {
      "text/plain": [
       "HS-grad         0.322502\n",
       "Some-college    0.223918\n",
       "Bachelors       0.164461\n",
       "Masters         0.052916\n",
       "Assoc-voc       0.042443\n",
       "11th            0.036086\n",
       "Assoc-acdm      0.032769\n",
       "10th            0.028654\n",
       "7th-8th         0.019840\n",
       "Prof-school     0.017690\n",
       "9th             0.015786\n",
       "12th            0.013298\n",
       "Doctorate       0.012684\n",
       "5th-6th         0.010227\n",
       "1st-4th         0.005160\n",
       "Preschool       0.001566\n",
       "Name: education, dtype: float64"
      ]
     },
     "metadata": {},
     "output_type": "display_data"
    },
    {
     "data": {
      "text/plain": [
       "Married-civ-spouse       0.459937\n",
       "Never-married            0.328092\n",
       "Divorced                 0.136452\n",
       "Separated                0.031479\n",
       "Widowed                  0.030497\n",
       "Married-spouse-absent    0.012837\n",
       "Married-AF-spouse        0.000706\n",
       "Name: status-marital, dtype: float64"
      ]
     },
     "metadata": {},
     "output_type": "display_data"
    },
    {
     "data": {
      "text/plain": [
       "Prof-specialty       0.127146\n",
       "Craft-repair         0.125887\n",
       "Exec-managerial      0.124873\n",
       "Adm-clerical         0.115783\n",
       "Sales                0.112097\n",
       "Other-service        0.101195\n",
       "Machine-op-inspct    0.061485\n",
       "?                    0.056601\n",
       "Transport-moving     0.049046\n",
       "Handlers-cleaners    0.042075\n",
       "Farming-fishing      0.030527\n",
       "Tech-support         0.028500\n",
       "Protective-serv      0.019932\n",
       "Priv-house-serv      0.004576\n",
       "Armed-Forces         0.000276\n",
       "Name: occupation, dtype: float64"
      ]
     },
     "metadata": {},
     "output_type": "display_data"
    },
    {
     "data": {
      "text/plain": [
       "Husband           0.405178\n",
       "Not-in-family     0.255060\n",
       "Own-child         0.155646\n",
       "Unmarried         0.105832\n",
       "Wife              0.048156\n",
       "Other-relative    0.030128\n",
       "Name: relation, dtype: float64"
      ]
     },
     "metadata": {},
     "output_type": "display_data"
    },
    {
     "data": {
      "text/plain": [
       "White                 0.854274\n",
       "Black                 0.095943\n",
       "Asian-Pac-Islander    0.031909\n",
       "Amer-Indian-Eskimo    0.009551\n",
       "Other                 0.008323\n",
       "Name: race, dtype: float64"
      ]
     },
     "metadata": {},
     "output_type": "display_data"
    },
    {
     "data": {
      "text/plain": [
       "Male      0.669205\n",
       "Female    0.330795\n",
       "Name: genre, dtype: float64"
      ]
     },
     "metadata": {},
     "output_type": "display_data"
    },
    {
     "data": {
      "text/plain": [
       "United-States                 0.895857\n",
       "Mexico                        0.019748\n",
       "?                             0.017905\n",
       "Philippines                   0.006081\n",
       "Germany                       0.004207\n",
       "Canada                        0.003716\n",
       "Puerto-Rico                   0.003501\n",
       "El-Salvador                   0.003255\n",
       "India                         0.003071\n",
       "Cuba                          0.002918\n",
       "England                       0.002764\n",
       "Jamaica                       0.002488\n",
       "South                         0.002457\n",
       "China                         0.002303\n",
       "Italy                         0.002242\n",
       "Dominican-Republic            0.002150\n",
       "Vietnam                       0.002058\n",
       "Guatemala                     0.001966\n",
       "Japan                         0.001904\n",
       "Poland                        0.001843\n",
       "Columbia                      0.001812\n",
       "Taiwan                        0.001566\n",
       "Haiti                         0.001351\n",
       "Iran                          0.001321\n",
       "Portugal                      0.001136\n",
       "Nicaragua                     0.001044\n",
       "Peru                          0.000952\n",
       "Greece                        0.000891\n",
       "France                        0.000891\n",
       "Ecuador                       0.000860\n",
       "Ireland                       0.000737\n",
       "Hong                          0.000614\n",
       "Trinadad&Tobago               0.000584\n",
       "Cambodia                      0.000584\n",
       "Thailand                      0.000553\n",
       "Laos                          0.000553\n",
       "Yugoslavia                    0.000491\n",
       "Outlying-US(Guam-USVI-etc)    0.000430\n",
       "Honduras                      0.000399\n",
       "Hungary                       0.000399\n",
       "Scotland                      0.000369\n",
       "Holand-Netherlands            0.000031\n",
       "Name: pays-origine, dtype: float64"
      ]
     },
     "metadata": {},
     "output_type": "display_data"
    },
    {
     "data": {
      "text/plain": [
       "<=50K    0.75919\n",
       ">50K     0.24081\n",
       "Name: salaire, dtype: float64"
      ]
     },
     "metadata": {},
     "output_type": "display_data"
    }
   ],
   "source": [
    "# Vérifier la présence du code de valeurs manquantes et convertir en NaNs\n",
    "# Object récupère les colonnes dont les types objets sont renseignés comme valeurs '?'\n",
    "\n",
    "object_col = adult_train.select_dtypes(include=object).columns.tolist() \n",
    "for col in object_col:\n",
    "    display(adult_train[col].value_counts(dropna=False)/adult_train.shape[0]) "
   ]
  },
  {
   "cell_type": "code",
   "execution_count": 75,
   "id": "30f8b485",
   "metadata": {},
   "outputs": [
    {
     "data": {
      "text/plain": [
       "occupation          0.056601\n",
       "classmetier         0.056386\n",
       "pays-origine        0.017905\n",
       "salaire             0.000000\n",
       "heure-parsemaine    0.000000\n",
       "perte-surcapital    0.000000\n",
       "gain-surcapial      0.000000\n",
       "genre               0.000000\n",
       "race                0.000000\n",
       "relation            0.000000\n",
       "status-marital      0.000000\n",
       "education-rang      0.000000\n",
       "education           0.000000\n",
       "age                 0.000000\n",
       "dtype: float64"
      ]
     },
     "execution_count": 75,
     "metadata": {},
     "output_type": "execute_result"
    }
   ],
   "source": [
    "# Convertir '?' en NaNs et les supprimer\n",
    "for col in object_col:\n",
    "    adult_train.loc[adult_train[col]=='?', col] = np.nan\n",
    "    adult_test.loc[adult_test[col]=='?', col] = np.nan\n",
    "    \n",
    "# Evaluer le taux de données manquantes dans le dataset\n",
    "col_missing_pct = adult_train.isna().sum()/adult_train.shape[0]\n",
    "col_missing_pct.sort_values(ascending=False)"
   ]
  },
  {
   "cell_type": "code",
   "execution_count": 81,
   "id": "a1bdccc2",
   "metadata": {},
   "outputs": [
    {
     "name": "stdout",
     "output_type": "stream",
     "text": [
      "Après suppression des valeurs manquantes: \n",
      "Le jeu d'entrainement a 30162 instances\n",
      "Le jeu de test a 15060 instances\n"
     ]
    }
   ],
   "source": [
    "# Suppression des entrées des données à valeurs manquantes\n",
    "adult_train = adult_train.dropna(axis=0, how='any')\n",
    "adult_test = adult_test.dropna(axis=0, how='any')\n",
    "\n",
    "# Affichage des valeurs pour les jeux de données manquantes\n",
    "print(\"Après suppression des valeurs manquantes: \")\n",
    "print(\"Le jeu d'entrainement a {} instances\".format(adult_train.shape[0]))\n",
    "print(\"Le jeu de test a {} instances\".format(adult_test.shape[0]))"
   ]
  },
  {
   "cell_type": "markdown",
   "id": "7e316d93",
   "metadata": {},
   "source": [
    "## 1.4 - Revue des données"
   ]
  },
  {
   "cell_type": "code",
   "execution_count": 82,
   "id": "6ceb6838",
   "metadata": {},
   "outputs": [],
   "source": [
    "# Combinons les jeux de données\n",
    "adult_data = pd.concat([adult_train, adult_test])"
   ]
  },
  {
   "cell_type": "code",
   "execution_count": 88,
   "id": "9874d890",
   "metadata": {},
   "outputs": [
    {
     "name": "stdout",
     "output_type": "stream",
     "text": [
      "Total du nombre des entrées: 45222\n",
      "Individus ayant plus de $50,000 de salaire: 11208\n",
      "Individus ayant au plus $50,000 de salaire : 34014\n",
      "Pourcentage d'individus avec un salaire de plus de $50,000: 24.78%\n"
     ]
    }
   ],
   "source": [
    "# Total du nombre des entrées\n",
    "n_records = adult_data.shape[0]\n",
    "\n",
    "# Nombre des entrées où les idividus ont un salaire supérieure à $50,000\n",
    "n_greater_50k = np.sum(adult_data.salaire == '>50K')\n",
    "\n",
    "# Nombre des entrées où les individus ont un salaire inférieur à $50,000\n",
    "n_at_most_50k = np.sum(adult_data.salaire == '<=50K')\n",
    "\n",
    "# Pourcentage d'individus avec un salaire de plus de $50,000\n",
    "greater_percentage = round(np.mean(adult_data.salaire == '>50K') * 100.00, 2)\n",
    "\n",
    "# Afficher les résultas\n",
    "print(\"Total du nombre des entrées: {}\".format(n_records))\n",
    "print(\"Individus ayant plus de $50,000 de salaire: {}\".format(n_greater_50k))\n",
    "print(\"Individus ayant au plus $50,000 de salaire : {}\".format(n_at_most_50k))\n",
    "print(\"Pourcentage d'individus avec un salaire de plus de $50,000: {}%\".format(greater_percentage))"
   ]
  },
  {
   "cell_type": "code",
   "execution_count": null,
   "id": "34114a4a",
   "metadata": {},
   "outputs": [],
   "source": []
  }
 ],
 "metadata": {
  "kernelspec": {
   "display_name": "Python 3",
   "language": "python",
   "name": "python3"
  },
  "language_info": {
   "codemirror_mode": {
    "name": "ipython",
    "version": 3
   },
   "file_extension": ".py",
   "mimetype": "text/x-python",
   "name": "python",
   "nbconvert_exporter": "python",
   "pygments_lexer": "ipython3",
   "version": "3.8.5"
  }
 },
 "nbformat": 4,
 "nbformat_minor": 5
}
